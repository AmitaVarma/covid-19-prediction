{
 "cells": [
  {
   "cell_type": "markdown",
   "metadata": {},
   "source": [
    "# Exploratory Data Analysis"
   ]
  },
  {
   "cell_type": "code",
   "execution_count": 33,
   "metadata": {},
   "outputs": [],
   "source": [
    "import numpy as np\n",
    "import pandas as pd\n",
    "import os\n",
    "import matplotlib.pyplot as plt\n",
    "import matplotlib.dates as mdates\n",
    "import matplotlib.ticker as ticker\n",
    "import seaborn as sns\n",
    "\n",
    "pd.set_option('display.max_columns', None)\n",
    "pd.set_option('display.max_rows', None)"
   ]
  },
  {
   "cell_type": "markdown",
   "metadata": {},
   "source": [
    "## Load the Data"
   ]
  },
  {
   "cell_type": "code",
   "execution_count": 21,
   "metadata": {
    "scrolled": true
   },
   "outputs": [],
   "source": [
    "data = pd.read_csv(\"../data/covid_data.csv\", dtype = str)\n",
    "\n",
    "#Data types\n",
    "data['date'] = pd.to_datetime(data['date'])\n",
    "data['lat'] = pd.to_numeric(data['lat'])\n",
    "data['long_'] = pd.to_numeric(data['long_'])\n",
    "data['confirmed'] = pd.to_numeric(data['confirmed'])\n",
    "data['deaths'] = pd.to_numeric(data['deaths'])"
   ]
  },
  {
   "cell_type": "code",
   "execution_count": 34,
   "metadata": {},
   "outputs": [
    {
     "data": {
      "text/html": [
       "<div>\n",
       "<style scoped>\n",
       "    .dataframe tbody tr th:only-of-type {\n",
       "        vertical-align: middle;\n",
       "    }\n",
       "\n",
       "    .dataframe tbody tr th {\n",
       "        vertical-align: top;\n",
       "    }\n",
       "\n",
       "    .dataframe thead th {\n",
       "        text-align: right;\n",
       "    }\n",
       "</style>\n",
       "<table border=\"1\" class=\"dataframe\">\n",
       "  <thead>\n",
       "    <tr style=\"text-align: right;\">\n",
       "      <th></th>\n",
       "      <th>uid</th>\n",
       "      <th>iso2</th>\n",
       "      <th>iso3</th>\n",
       "      <th>code3</th>\n",
       "      <th>fips</th>\n",
       "      <th>county</th>\n",
       "      <th>province_state</th>\n",
       "      <th>country_region</th>\n",
       "      <th>lat</th>\n",
       "      <th>long_</th>\n",
       "      <th>combined_key</th>\n",
       "      <th>confirmed</th>\n",
       "      <th>deaths</th>\n",
       "      <th>date</th>\n",
       "    </tr>\n",
       "  </thead>\n",
       "  <tbody>\n",
       "    <tr>\n",
       "      <td>0</td>\n",
       "      <td>16</td>\n",
       "      <td>AS</td>\n",
       "      <td>ASM</td>\n",
       "      <td>16</td>\n",
       "      <td>60</td>\n",
       "      <td>NaN</td>\n",
       "      <td>American Samoa</td>\n",
       "      <td>US</td>\n",
       "      <td>-14.2710</td>\n",
       "      <td>-170.1320</td>\n",
       "      <td>American Samoa, US</td>\n",
       "      <td>0</td>\n",
       "      <td>0</td>\n",
       "      <td>2020-01-22</td>\n",
       "    </tr>\n",
       "    <tr>\n",
       "      <td>1</td>\n",
       "      <td>316</td>\n",
       "      <td>GU</td>\n",
       "      <td>GUM</td>\n",
       "      <td>316</td>\n",
       "      <td>66</td>\n",
       "      <td>NaN</td>\n",
       "      <td>Guam</td>\n",
       "      <td>US</td>\n",
       "      <td>13.4443</td>\n",
       "      <td>144.7937</td>\n",
       "      <td>Guam, US</td>\n",
       "      <td>0</td>\n",
       "      <td>0</td>\n",
       "      <td>2020-01-22</td>\n",
       "    </tr>\n",
       "    <tr>\n",
       "      <td>2</td>\n",
       "      <td>580</td>\n",
       "      <td>MP</td>\n",
       "      <td>MNP</td>\n",
       "      <td>580</td>\n",
       "      <td>69</td>\n",
       "      <td>NaN</td>\n",
       "      <td>Northern Mariana Islands</td>\n",
       "      <td>US</td>\n",
       "      <td>15.0979</td>\n",
       "      <td>145.6739</td>\n",
       "      <td>Northern Mariana Islands, US</td>\n",
       "      <td>0</td>\n",
       "      <td>0</td>\n",
       "      <td>2020-01-22</td>\n",
       "    </tr>\n",
       "    <tr>\n",
       "      <td>3</td>\n",
       "      <td>630</td>\n",
       "      <td>PR</td>\n",
       "      <td>PRI</td>\n",
       "      <td>630</td>\n",
       "      <td>72</td>\n",
       "      <td>NaN</td>\n",
       "      <td>Puerto Rico</td>\n",
       "      <td>US</td>\n",
       "      <td>18.2208</td>\n",
       "      <td>-66.5901</td>\n",
       "      <td>Puerto Rico, US</td>\n",
       "      <td>0</td>\n",
       "      <td>0</td>\n",
       "      <td>2020-01-22</td>\n",
       "    </tr>\n",
       "    <tr>\n",
       "      <td>4</td>\n",
       "      <td>850</td>\n",
       "      <td>VI</td>\n",
       "      <td>VIR</td>\n",
       "      <td>850</td>\n",
       "      <td>78</td>\n",
       "      <td>NaN</td>\n",
       "      <td>Virgin Islands</td>\n",
       "      <td>US</td>\n",
       "      <td>18.3358</td>\n",
       "      <td>-64.8963</td>\n",
       "      <td>Virgin Islands, US</td>\n",
       "      <td>0</td>\n",
       "      <td>0</td>\n",
       "      <td>2020-01-22</td>\n",
       "    </tr>\n",
       "  </tbody>\n",
       "</table>\n",
       "</div>"
      ],
      "text/plain": [
       "   uid iso2 iso3 code3 fips county            province_state country_region  \\\n",
       "0   16   AS  ASM    16   60    NaN            American Samoa             US   \n",
       "1  316   GU  GUM   316   66    NaN                      Guam             US   \n",
       "2  580   MP  MNP   580   69    NaN  Northern Mariana Islands             US   \n",
       "3  630   PR  PRI   630   72    NaN               Puerto Rico             US   \n",
       "4  850   VI  VIR   850   78    NaN            Virgin Islands             US   \n",
       "\n",
       "       lat     long_                  combined_key  confirmed  deaths  \\\n",
       "0 -14.2710 -170.1320            American Samoa, US          0       0   \n",
       "1  13.4443  144.7937                      Guam, US          0       0   \n",
       "2  15.0979  145.6739  Northern Mariana Islands, US          0       0   \n",
       "3  18.2208  -66.5901               Puerto Rico, US          0       0   \n",
       "4  18.3358  -64.8963            Virgin Islands, US          0       0   \n",
       "\n",
       "        date  \n",
       "0 2020-01-22  \n",
       "1 2020-01-22  \n",
       "2 2020-01-22  \n",
       "3 2020-01-22  \n",
       "4 2020-01-22  "
      ]
     },
     "execution_count": 34,
     "metadata": {},
     "output_type": "execute_result"
    }
   ],
   "source": [
    "data.head()"
   ]
  },
  {
   "cell_type": "code",
   "execution_count": 42,
   "metadata": {
    "scrolled": true
   },
   "outputs": [
    {
     "data": {
      "text/plain": [
       "array(['Albany', 'Allegany', 'Bronx', 'Broome', 'Cattaraugus', 'Cayuga',\n",
       "       'Chautauqua', 'Chemung', 'Chenango', 'Clinton', 'Columbia',\n",
       "       'Cortland', 'Delaware', 'Dutchess', 'Erie', 'Essex', 'Franklin',\n",
       "       'Fulton', 'Genesee', 'Greene', 'Hamilton', 'Herkimer', 'Jefferson',\n",
       "       'Kings', 'Lewis', 'Livingston', 'Madison', 'Monroe', 'Montgomery',\n",
       "       'Nassau', 'New York', 'Niagara', 'Oneida', 'Onondaga', 'Ontario',\n",
       "       'Orange', 'Orleans', 'Oswego', 'Otsego', 'Out of NY', 'Putnam',\n",
       "       'Queens', 'Rensselaer', 'Richmond', 'Rockland', 'Saratoga',\n",
       "       'Schenectady', 'Schoharie', 'Schuyler', 'Seneca', 'St. Lawrence',\n",
       "       'Steuben', 'Suffolk', 'Sullivan', 'Tioga', 'Tompkins', 'Ulster',\n",
       "       'Unassigned', 'Warren', 'Washington', 'Wayne', 'Westchester',\n",
       "       'Wyoming', 'Yates'], dtype=object)"
      ]
     },
     "execution_count": 42,
     "metadata": {},
     "output_type": "execute_result"
    }
   ],
   "source": [
    "np.unique(data[data.province_state == 'New York'].county)"
   ]
  },
  {
   "cell_type": "code",
   "execution_count": 44,
   "metadata": {},
   "outputs": [
    {
     "data": {
      "text/html": [
       "<div>\n",
       "<style scoped>\n",
       "    .dataframe tbody tr th:only-of-type {\n",
       "        vertical-align: middle;\n",
       "    }\n",
       "\n",
       "    .dataframe tbody tr th {\n",
       "        vertical-align: top;\n",
       "    }\n",
       "\n",
       "    .dataframe thead th {\n",
       "        text-align: right;\n",
       "    }\n",
       "</style>\n",
       "<table border=\"1\" class=\"dataframe\">\n",
       "  <thead>\n",
       "    <tr style=\"text-align: right;\">\n",
       "      <th></th>\n",
       "      <th>uid</th>\n",
       "      <th>iso2</th>\n",
       "      <th>iso3</th>\n",
       "      <th>code3</th>\n",
       "      <th>fips</th>\n",
       "      <th>county</th>\n",
       "      <th>province_state</th>\n",
       "      <th>country_region</th>\n",
       "      <th>lat</th>\n",
       "      <th>long_</th>\n",
       "      <th>combined_key</th>\n",
       "      <th>confirmed</th>\n",
       "      <th>deaths</th>\n",
       "      <th>date</th>\n",
       "    </tr>\n",
       "  </thead>\n",
       "  <tbody>\n",
       "    <tr>\n",
       "      <td>1863</td>\n",
       "      <td>84036061</td>\n",
       "      <td>US</td>\n",
       "      <td>USA</td>\n",
       "      <td>840</td>\n",
       "      <td>36061</td>\n",
       "      <td>New York</td>\n",
       "      <td>New York</td>\n",
       "      <td>US</td>\n",
       "      <td>40.767273</td>\n",
       "      <td>-73.971526</td>\n",
       "      <td>New York City, New York, US</td>\n",
       "      <td>0</td>\n",
       "      <td>0</td>\n",
       "      <td>2020-01-22</td>\n",
       "    </tr>\n",
       "    <tr>\n",
       "      <td>5116</td>\n",
       "      <td>84036061</td>\n",
       "      <td>US</td>\n",
       "      <td>USA</td>\n",
       "      <td>840</td>\n",
       "      <td>36061</td>\n",
       "      <td>New York</td>\n",
       "      <td>New York</td>\n",
       "      <td>US</td>\n",
       "      <td>40.767273</td>\n",
       "      <td>-73.971526</td>\n",
       "      <td>New York City, New York, US</td>\n",
       "      <td>0</td>\n",
       "      <td>0</td>\n",
       "      <td>2020-01-23</td>\n",
       "    </tr>\n",
       "    <tr>\n",
       "      <td>8369</td>\n",
       "      <td>84036061</td>\n",
       "      <td>US</td>\n",
       "      <td>USA</td>\n",
       "      <td>840</td>\n",
       "      <td>36061</td>\n",
       "      <td>New York</td>\n",
       "      <td>New York</td>\n",
       "      <td>US</td>\n",
       "      <td>40.767273</td>\n",
       "      <td>-73.971526</td>\n",
       "      <td>New York City, New York, US</td>\n",
       "      <td>0</td>\n",
       "      <td>0</td>\n",
       "      <td>2020-01-24</td>\n",
       "    </tr>\n",
       "    <tr>\n",
       "      <td>11622</td>\n",
       "      <td>84036061</td>\n",
       "      <td>US</td>\n",
       "      <td>USA</td>\n",
       "      <td>840</td>\n",
       "      <td>36061</td>\n",
       "      <td>New York</td>\n",
       "      <td>New York</td>\n",
       "      <td>US</td>\n",
       "      <td>40.767273</td>\n",
       "      <td>-73.971526</td>\n",
       "      <td>New York City, New York, US</td>\n",
       "      <td>0</td>\n",
       "      <td>0</td>\n",
       "      <td>2020-01-25</td>\n",
       "    </tr>\n",
       "    <tr>\n",
       "      <td>14875</td>\n",
       "      <td>84036061</td>\n",
       "      <td>US</td>\n",
       "      <td>USA</td>\n",
       "      <td>840</td>\n",
       "      <td>36061</td>\n",
       "      <td>New York</td>\n",
       "      <td>New York</td>\n",
       "      <td>US</td>\n",
       "      <td>40.767273</td>\n",
       "      <td>-73.971526</td>\n",
       "      <td>New York City, New York, US</td>\n",
       "      <td>0</td>\n",
       "      <td>0</td>\n",
       "      <td>2020-01-26</td>\n",
       "    </tr>\n",
       "  </tbody>\n",
       "</table>\n",
       "</div>"
      ],
      "text/plain": [
       "            uid iso2 iso3 code3   fips    county province_state  \\\n",
       "1863   84036061   US  USA   840  36061  New York       New York   \n",
       "5116   84036061   US  USA   840  36061  New York       New York   \n",
       "8369   84036061   US  USA   840  36061  New York       New York   \n",
       "11622  84036061   US  USA   840  36061  New York       New York   \n",
       "14875  84036061   US  USA   840  36061  New York       New York   \n",
       "\n",
       "      country_region        lat      long_                 combined_key  \\\n",
       "1863              US  40.767273 -73.971526  New York City, New York, US   \n",
       "5116              US  40.767273 -73.971526  New York City, New York, US   \n",
       "8369              US  40.767273 -73.971526  New York City, New York, US   \n",
       "11622             US  40.767273 -73.971526  New York City, New York, US   \n",
       "14875             US  40.767273 -73.971526  New York City, New York, US   \n",
       "\n",
       "       confirmed  deaths       date  \n",
       "1863           0       0 2020-01-22  \n",
       "5116           0       0 2020-01-23  \n",
       "8369           0       0 2020-01-24  \n",
       "11622          0       0 2020-01-25  \n",
       "14875          0       0 2020-01-26  "
      ]
     },
     "execution_count": 44,
     "metadata": {},
     "output_type": "execute_result"
    }
   ],
   "source": [
    "data[(data.province_state == 'New York') & (data.county == 'New York')].head()"
   ]
  },
  {
   "cell_type": "markdown",
   "metadata": {},
   "source": [
    "## Time Trends"
   ]
  },
  {
   "cell_type": "code",
   "execution_count": 66,
   "metadata": {},
   "outputs": [
    {
     "data": {
      "image/png": "[encoded data removed]",
      "text/plain": [
       "<Figure size 1080x432 with 1 Axes>"
      ]
     },
     "metadata": {
      "needs_background": "light"
     },
     "output_type": "display_data"
    }
   ],
   "source": [
    "fig, ax = plt.subplots(figsize = (15,6))\n",
    "sns.lineplot(x = data.date, y = data.confirmed, estimator = 'sum', label = 'Confirmed Cases')\n",
    "sns.lineplot(x = data.date, y = data.deaths, estimator = 'sum', label = 'Deaths')\n",
    "#Labels\n",
    "plt.title(\"US: COVID-19 Cases by Date\")\n",
    "plt.xlabel(\"Date\")\n",
    "plt.ylabel(\"Confirmed Cases of COVID-19\")\n",
    "#Format x-axis\n",
    "ax.xaxis.set_minor_locator(mdates.DayLocator(interval=1))\n",
    "ax.xaxis.set_major_locator(mdates.DayLocator(interval=5))\n",
    "ax.xaxis.set_major_formatter(mdates.DateFormatter('%Y-%m-%d'))\n",
    "fig.autofmt_xdate()\n",
    "plt.show();"
   ]
  },
  {
   "cell_type": "markdown",
   "metadata": {},
   "source": [
    "Xxx\n"
   ]
  },
  {
   "cell_type": "markdown",
   "metadata": {},
   "source": [
    "## State Trends"
   ]
  },
  {
   "cell_type": "markdown",
   "metadata": {},
   "source": [
    "### New York City Trends"
   ]
  },
  {
   "cell_type": "code",
   "execution_count": 67,
   "metadata": {
    "scrolled": true
   },
   "outputs": [
    {
     "data": {
      "image/png": "[encoded data removed]",
      "text/plain": [
       "<Figure size 1080x432 with 1 Axes>"
      ]
     },
     "metadata": {
      "needs_background": "light"
     },
     "output_type": "display_data"
    }
   ],
   "source": [
    "nyc = data[(data.province_state == 'New York') & (data.county == 'New York')]\n",
    "\n",
    "fig, ax = plt.subplots(figsize = (15,6))\n",
    "sns.lineplot(x = nyc.date, y = nyc.confirmed, estimator = 'mean', label = 'Confirmed Cases')\n",
    "sns.lineplot(x = nyc.date, y = nyc.deaths, estimator = 'mean', label = 'Deaths')\n",
    "#Labels\n",
    "plt.title(\"New York City: COVID-19 Cases by Date\")\n",
    "plt.xlabel(\"Date\")\n",
    "plt.ylabel(\"Confirmed Cases of COVID-19\")\n",
    "#Format x-axis\n",
    "ax.xaxis.set_minor_locator(mdates.DayLocator(interval=1))\n",
    "ax.xaxis.set_major_locator(mdates.DayLocator(interval=5))\n",
    "ax.xaxis.set_major_formatter(mdates.DateFormatter('%Y-%m-%d'))\n",
    "fig.autofmt_xdate()\n",
    "plt.show();"
   ]
  },
  {
   "cell_type": "code",
   "execution_count": null,
   "metadata": {},
   "outputs": [],
   "source": [
    "\n",
    "fig, ax = plt.subplots(figsize = (20,6))\n",
    "#All states\n",
    "for st in np.unique(data.province_state):\n",
    "    sns.lineplot(x = data[data.province_state == st].date, y = data[data.province_state == st].confirmed, estimator = 'sum', color = \"gray\")\n",
    "#Outlier states\n",
    "for st, c in zip([\"Puerto Rico\",\"Oklahoma\",\"District of Columbia\",\"Maryland\", \"Alabama\"], \\\n",
    "                 [\"red\", \"blue\", \"green\", \"orange\", \"purple\"]):\n",
    "    sns.lineplot(x = data[data.province_state == st].date, y = data[data.province_state == st].confirmed, \\\n",
    "                 label = st, estimator = 'sum', color = c)\n",
    "#Labels\n",
    "plt.title(\"COVID-19 Cases by State\")\n",
    "plt.xlabel(\"Date\")\n",
    "plt.ylabel(\"Confirmed Casesof COVID-19\")\n",
    "#Format x-axis\n",
    "ax.xaxis.set_minor_locator(mdates.DayLocator(interval=1))\n",
    "ax.xaxis.set_major_locator(mdates.DayLocator(interval=5))\n",
    "ax.xaxis.set_major_formatter(mdates.DateFormatter('%Y-%m-%d'))\n",
    "fig.autofmt_xdate()\n",
    "plt.show();\n"
   ]
  },
  {
   "cell_type": "markdown",
   "metadata": {},
   "source": [
    "xxx"
   ]
  },
  {
   "cell_type": "code",
   "execution_count": null,
   "metadata": {},
   "outputs": [],
   "source": []
  }
 ],
 "metadata": {
  "kernelspec": {
   "display_name": "Python 3",
   "language": "python",
   "name": "python3"
  },
  "language_info": {
   "codemirror_mode": {
    "name": "ipython",
    "version": 3
   },
   "file_extension": ".py",
   "mimetype": "text/x-python",
   "name": "python",
   "nbconvert_exporter": "python",
   "pygments_lexer": "ipython3",
   "version": "3.7.4"
  }
 },
 "nbformat": 4,
 "nbformat_minor": 2
}
